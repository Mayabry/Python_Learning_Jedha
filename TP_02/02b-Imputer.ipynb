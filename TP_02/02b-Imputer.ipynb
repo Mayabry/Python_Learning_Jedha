{
  "cells": [
    {
      "cell_type": "markdown",
      "metadata": {
        "colab_type": "text",
        "id": "6cqYL_Y0rfoH"
      },
      "source": [
        "# Imputer"
      ]
    },
    {
      "cell_type": "markdown",
      "metadata": {
        "colab_type": "text",
        "id": "sB61JRG-rj6v"
      },
      "source": [
        "_In data science, it's common for there to be missing values in a dataset. Let's see how we can create a class that will allow us to replace this missing value by the average of the values in the list_"
      ]
    },
    {
      "cell_type": "markdown",
      "metadata": {
        "colab_type": "text",
        "id": "nvclKDGOrlV3"
      },
      "source": [
        "1. _Create a class that we will call Imputer_.\n",
        "2. _To simplify the exercise, we will only deal with lists for the moment._\n",
        "3. _Our class will take an attribute that we will call list_.\n",
        "4. _Create an avg() function that will first remove the missing value and then replace it with the average of the list._"
      ]
    },
    {
      "cell_type": "code",
      "execution_count": 29,
      "metadata": {
        "colab": {
          "base_uri": "https://localhost:8080/",
          "height": 52
        },
        "colab_type": "code",
        "id": "4agC-7RLrQSp",
        "outputId": "c98a0475-d2f7-4e53-e3b3-e45b2c1874ff"
      },
      "outputs": [
        {
          "data": {
            "text/plain": [
              "'\"\\nclass Imputer():\\n\\n  def MeanImputer(data_list):\\n    for i in range(len(data_list)):\\n      if data_list[i] == None:\\n        data_list[i] = Math.mean(data_list)\\n    return(data_list)\\n\\n  def MedianImputer(data_list):\\n    for i in range(len(data_list)):\\n      if data_list[i] == None:\\n        data_list[i] = Math.median(data_list)\\n    return(data_list)\\n'"
            ]
          },
          "execution_count": 29,
          "metadata": {},
          "output_type": "execute_result"
        }
      ],
      "source": [
        "class Imputer:\n",
        "    def clean(self, list1):\n",
        "        nw_list = []\n",
        "        for l in list1:\n",
        "            if l != None:\n",
        "                nw_list.append(l)\n",
        "        print(f\"The new list is {nw_list}\")\n",
        "        taille = 0\n",
        "        for l in nw_list:\n",
        "            taille += l\n",
        "        moyenne = taille/len(nw_list)\n",
        "        moyenne = round(moyenne, 1)\n",
        "        for i in range(len(list1)):\n",
        "            if list1[i] == None :\n",
        "                list1[i] = moyenne\n",
        "        print(f\"{list1}\")\n",
        "    \n",
        "\n",
        "\n",
        "        "
      ]
    },
    {
      "cell_type": "markdown",
      "metadata": {
        "colab_type": "text",
        "id": "bc7K3aMYr9uH"
      },
      "source": [
        "# OPTIONAL - Improve Imputer\n",
        "\n",
        "_We have created our Imputer class which works very well for replacing missing values with averages. But, couldn't we also use this class to replace with a median? Try to add a method in Imputer that will allow us to replace the list with either the average or the median._"
      ]
    },
    {
      "cell_type": "code",
      "execution_count": 45,
      "metadata": {
        "colab": {
          "base_uri": "https://localhost:8080/",
          "height": 86
        },
        "colab_type": "code",
        "id": "vWlNZ5nDrqPa",
        "outputId": "b80570c6-7d61-4ee6-8da0-deefadcf6f3e"
      },
      "outputs": [
        {
          "name": "stdout",
          "output_type": "stream",
          "text": [
            "9\n",
            "9\n"
          ]
        },
        {
          "data": {
            "text/plain": [
              "9"
            ]
          },
          "execution_count": 45,
          "metadata": {},
          "output_type": "execute_result"
        }
      ],
      "source": [
        "def median(l):\n",
        "        r = []\n",
        "        cp = 0\n",
        "        for i in l:\n",
        "          if type(i) == int or type(i) == float:\n",
        "            r.append(i)\n",
        "            cp += 1\n",
        "        r.sort()\n",
        "        if (len(r)//2)*2 == len(r):\n",
        "          med = (r[int((len(r)/2)-1)] + r[int((len(r)/2))])/2\n",
        "        else:\n",
        "          med = r[(len(r)//2)]\n",
        "        \n",
        "        return round(med, 1)\n",
        "\n",
        "\n",
        "\n",
        "import statistics as sts\n",
        "list = [1, 2, 3, 12, 5, 6, 22, 33, 17, 9, 11]\n",
        "\n",
        "print(Imputer.median(list))\n",
        "print(sts.median(list))\n",
        "sts.median(list)"
      ]
    },
    {
      "attachments": {},
      "cell_type": "markdown",
      "metadata": {},
      "source": [
        "# Improve Imputer"
      ]
    },
    {
      "cell_type": "code",
      "execution_count": null,
      "metadata": {},
      "outputs": [],
      "source": [
        "class Imputer():\n",
        "\n",
        "  def MeanImputer(data_list):\n",
        "    for i in range(len(data_list)):\n",
        "      if data_list[i] == None:\n",
        "        data_list[i] = Math.mean(data_list)\n",
        "    return(data_list)\n",
        "\n",
        "  def MedianImputer(data_list):\n",
        "    for i in range(len(data_list)):\n",
        "      if data_list[i] == None:\n",
        "        data_list[i] = Math.median(data_list)\n",
        "    return(data_list)"
      ]
    }
  ],
  "metadata": {
    "colab": {
      "collapsed_sections": [],
      "name": "Imputer - Exercice S1-3.ipynb",
      "provenance": [],
      "version": "0.3.2"
    },
    "kernelspec": {
      "display_name": "base",
      "language": "python",
      "name": "python3"
    },
    "language_info": {
      "codemirror_mode": {
        "name": "ipython",
        "version": 3
      },
      "file_extension": ".py",
      "mimetype": "text/x-python",
      "name": "python",
      "nbconvert_exporter": "python",
      "pygments_lexer": "ipython3",
      "version": "3.8.3 (default, Jul  2 2020, 17:30:36) [MSC v.1916 64 bit (AMD64)]"
    },
    "vscode": {
      "interpreter": {
        "hash": "dc07d24e2f18896857f0b2a651fe84ba40ce7b297e58d8804a308c8039f752a6"
      }
    }
  },
  "nbformat": 4,
  "nbformat_minor": 0
}
