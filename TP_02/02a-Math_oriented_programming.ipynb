{
  "cells": [
    {
      "cell_type": "markdown",
      "metadata": {
        "colab_type": "text",
        "id": "ARXMbV_Vp5qc"
      },
      "source": [
        "# Mathematically Oriented Programming"
      ]
    },
    {
      "cell_type": "markdown",
      "metadata": {
        "colab_type": "text",
        "id": "1JYqlALqp73y"
      },
      "source": [
        "_Mathematics, in general, we don't like to do it. Especially when it involves repeating operations, over and over again. Let's be real lazy and create a class that will do the operations we want for us._"
      ]
    },
    {
      "cell_type": "markdown",
      "metadata": {
        "colab_type": "text",
        "id": "Lc3ol0PSp98l"
      },
      "source": [
        "1. _Create a class to be called \"math.\"_\n",
        "2. _This class will have no internal attributes, so you don't need to define an init() _\n",
        "3. _Create a method that will compute the square root of any number._\n",
        "4. _Create a method that will calculate the average of any list of numbers._\n",
        "5. _Create a method to find out if a number is even or odd_.\n",
        "6. _Finally, create a method that will give the total sum of a list of numbers._\n"
      ]
    },
    {
      "cell_type": "code",
      "execution_count": 31,
      "metadata": {
        "colab": {
          "base_uri": "https://localhost:8080/",
          "height": 104
        },
        "colab_type": "code",
        "id": "xFLBlgj1pndw",
        "outputId": "44506b62-75cb-416a-895e-848ef632a530"
      },
      "outputs": [],
      "source": [
        "class math:\n",
        "    def sqr_root(self, nb):\n",
        "        result = nb**0.5\n",
        "        print(\"The square rootof {} is {} \".format(nb, result))\n",
        "        return \n",
        "    def average_nb(self, list_xi:list):\n",
        "        total_xi = 0\n",
        "        for i in list_xi:\n",
        "            total_xi += i\n",
        "        avg_nb = total_xi/len(list_xi)\n",
        "        print(\"The average is {} \".format(avg_nb))\n",
        "        return\n",
        "    def odd_number (self, n):\n",
        "        if (n%2) == 0:\n",
        "            print(f\"{n} is even\")\n",
        "            return\n",
        "        else: \n",
        "            print(f\"{n} is odd\")\n",
        "\n",
        "    def somme (self, liste):\n",
        "        total = 0\n",
        "        for l in liste:\n",
        "            total = total + l\n",
        "        print(f\"the sum is {total}\")\n",
        "        return\n"
      ]
    },
    {
      "cell_type": "code",
      "execution_count": 33,
      "metadata": {},
      "outputs": [
        {
          "name": "stdout",
          "output_type": "stream",
          "text": [
            "The square rootof 9 is 3.0 \n",
            "The average is 20.0 \n",
            "2 is even\n",
            "the sum is 90\n"
          ]
        }
      ],
      "source": [
        "math1 = math()\n",
        "math1.sqr_root(9)\n",
        "math1.average_nb([10,20,30])\n",
        "math1.odd_number(2)\n",
        "math1.somme([10, 30, 10, 40])"
      ]
    },
    {
      "cell_type": "code",
      "execution_count": null,
      "metadata": {},
      "outputs": [],
      "source": []
    },
    {
      "cell_type": "code",
      "execution_count": null,
      "metadata": {},
      "outputs": [],
      "source": []
    },
    {
      "cell_type": "code",
      "execution_count": null,
      "metadata": {},
      "outputs": [],
      "source": []
    }
  ],
  "metadata": {
    "colab": {
      "name": "Programmation Orientée Mathématiques - Exercice S1-3.ipynb",
      "provenance": [],
      "version": "0.3.2"
    },
    "kernelspec": {
      "display_name": "base",
      "language": "python",
      "name": "python3"
    },
    "language_info": {
      "codemirror_mode": {
        "name": "ipython",
        "version": 3
      },
      "file_extension": ".py",
      "mimetype": "text/x-python",
      "name": "python",
      "nbconvert_exporter": "python",
      "pygments_lexer": "ipython3",
      "version": "3.8.3"
    },
    "vscode": {
      "interpreter": {
        "hash": "dc07d24e2f18896857f0b2a651fe84ba40ce7b297e58d8804a308c8039f752a6"
      }
    }
  },
  "nbformat": 4,
  "nbformat_minor": 0
}
